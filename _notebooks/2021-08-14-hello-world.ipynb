{
  "nbformat": 4,
  "nbformat_minor": 0,
  "metadata": {
    "colab": {
      "name": "2021-08-14-hello-world.ipynb",
      "provenance": [],
      "collapsed_sections": [],
      "authorship_tag": "ABX9TyP5PrulMhVuR4YSVV4obAYA"
    },
    "kernelspec": {
      "name": "python3",
      "display_name": "Python 3"
    },
    "language_info": {
      "name": "python"
    }
  },
  "cells": [
    {
      "cell_type": "markdown",
      "metadata": {
        "id": "1i_uLQaeHb7b"
      },
      "source": [
        "# \"Tools\"\n",
        "> \"An overview of tools used in Business Analytics\"\n",
        "\n",
        "- toc:true- branch: master\n",
        "- badges: true\n",
        "- comments: true\n",
        "- author: Pavankumar Gurazada\n",
        "- categories: [jupyter]"
      ]
    },
    {
      "cell_type": "code",
      "metadata": {
        "id": "HJ5vmHksHQVp"
      },
      "source": [
        ""
      ],
      "execution_count": null,
      "outputs": []
    }
  ]
}