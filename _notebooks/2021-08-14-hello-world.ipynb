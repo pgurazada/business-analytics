{
  "nbformat": 4,
  "nbformat_minor": 0,
  "metadata": {
    "colab": {
      "name": "2021-08-14-hello-world.ipynb",
      "provenance": [],
      "collapsed_sections": [],
      "authorship_tag": "ABX9TyPzoQRi9Gf3o7HPT0wMmcbo"
    },
    "kernelspec": {
      "name": "python3",
      "display_name": "Python 3"
    },
    "language_info": {
      "name": "python"
    }
  },
  "cells": [
    {
      "cell_type": "markdown",
      "metadata": {
        "id": "1i_uLQaeHb7b"
      },
      "source": [
        "# \"Explainers and Regression models\"\n",
        "> \"Do model explainers correlate with findings from linear models?\"\n",
        "\n",
        "- toc:true\n",
        "- branch: master\n",
        "- badges: true\n",
        "- comments: true\n",
        "- author: Pavankumar Gurazada"
      ]
    },
    {
      "cell_type": "markdown",
      "metadata": {
        "id": "s0FktjYCOd5w"
      },
      "source": [
        "# Linear regression\n",
        "\n",
        "Linear regression models use a linear combination of input features to predict a business relevant outcome. \n",
        "\n",
        "As an example, we could be interested in predicting the price of \n",
        "\n"
      ]
    },
    {
      "cell_type": "markdown",
      "metadata": {
        "id": "-JYqWbtjQxYl"
      },
      "source": [
        "# Gradient Boosted Trees (aka XGBoost)"
      ]
    },
    {
      "cell_type": "code",
      "metadata": {
        "id": "HJ5vmHksHQVp"
      },
      "source": [
        "import pandas as pd"
      ],
      "execution_count": 1,
      "outputs": []
    },
    {
      "cell_type": "markdown",
      "metadata": {
        "id": "_yr2Fxb0S8vG"
      },
      "source": [
        "# Data\n",
        "\n",
        "Data sourced from [here](https://github.com/TStud/WebApp-for-Prediction-of-Car-Price-CarDekho-Vehicle-Dataset-); a replica of the original [Kaggle dataset](https://www.kaggle.com/nehalbirla/vehicle-dataset-from-cardekho) from [Cardekho](https://www.cardekho.com/)."
      ]
    },
    {
      "cell_type": "code",
      "metadata": {
        "id": "GKHxtOsnQ29t"
      },
      "source": [
        "used_cars_df = pd.read_csv(\"https://raw.githubusercontent.com/TStud/WebApp-for-Prediction-of-Car-Price-CarDekho-Vehicle-Dataset-/master/cardata.csv\")"
      ],
      "execution_count": 2,
      "outputs": []
    },
    {
      "cell_type": "code",
      "metadata": {
        "colab": {
          "base_uri": "https://localhost:8080/"
        },
        "id": "hV7S0wbxS1Ir",
        "outputId": "f67d678f-6a4b-44af-ccbd-5bb33cea774c"
      },
      "source": [
        "used_cars_df.shape"
      ],
      "execution_count": 4,
      "outputs": [
        {
          "output_type": "execute_result",
          "data": {
            "text/plain": [
              "(301, 9)"
            ]
          },
          "metadata": {
            "tags": []
          },
          "execution_count": 4
        }
      ]
    },
    {
      "cell_type": "code",
      "metadata": {
        "colab": {
          "base_uri": "https://localhost:8080/"
        },
        "id": "6eqSjSRZS3AV",
        "outputId": "4995b572-1c12-4ab8-c540-084bfedb9df6"
      },
      "source": [
        "used_cars_df.columns"
      ],
      "execution_count": 5,
      "outputs": [
        {
          "output_type": "execute_result",
          "data": {
            "text/plain": [
              "Index(['Car_Name', 'Year', 'Selling_Price', 'Present_Price', 'Kms_Driven',\n",
              "       'Fuel_Type', 'Seller_Type', 'Transmission', 'Owner'],\n",
              "      dtype='object')"
            ]
          },
          "metadata": {
            "tags": []
          },
          "execution_count": 5
        }
      ]
    }
  ]
}