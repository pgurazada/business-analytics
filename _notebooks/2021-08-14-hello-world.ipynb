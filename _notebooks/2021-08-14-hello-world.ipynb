{
  "nbformat": 4,
  "nbformat_minor": 0,
  "metadata": {
    "colab": {
      "name": "2021-08-14-hello-world.ipynb",
      "provenance": [],
      "authorship_tag": "ABX9TyP2RCnQm1JKV9u4zduVT2oX",
      "include_colab_link": true
    },
    "kernelspec": {
      "name": "python3",
      "display_name": "Python 3"
    },
    "language_info": {
      "name": "python"
    }
  },
  "cells": [
    {
      "cell_type": "markdown",
      "metadata": {
        "id": "view-in-github",
        "colab_type": "text"
      },
      "source": [
        "<a href=\"https://colab.research.google.com/github/pgurazada/business-analytics/blob/master/_notebooks/2021-08-14-hello-world.ipynb\" target=\"_parent\"><img src=\"https://colab.research.google.com/assets/colab-badge.svg\" alt=\"Open In Colab\"/></a>"
      ]
    },
    {
      "cell_type": "markdown",
      "metadata": {
        "id": "1i_uLQaeHb7b"
      },
      "source": [
        "# The first one\n",
        "\n",
        "Will be edited later"
      ]
    },
    {
      "cell_type": "code",
      "metadata": {
        "id": "HJ5vmHksHQVp"
      },
      "source": [
        ""
      ],
      "execution_count": null,
      "outputs": []
    }
  ]
}